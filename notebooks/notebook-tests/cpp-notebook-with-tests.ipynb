{
 "cells": [
  {
   "cell_type": "code",
   "execution_count": 1,
   "id": "0e774c08",
   "metadata": {
    "vscode": {
     "languageId": "cpp"
    }
   },
   "outputs": [],
   "source": [
    "#include \"test_utils.h\"\n",
    "using namespace test_utils;\n",
    "\n",
    "#include <vector>"
   ]
  },
  {
   "cell_type": "code",
   "execution_count": null,
   "id": "75bf75fa",
   "metadata": {
    "vscode": {
     "languageId": "cpp"
    }
   },
   "outputs": [
    {
     "name": "stdout",
     "output_type": "stream",
     "text": [
      "Values are not equal: \n",
      "  42 != 23\n"
     ]
    }
   ],
   "source": [
    "assert::eq(42, 23);"
   ]
  },
  {
   "cell_type": "code",
   "execution_count": null,
   "id": "4b1ead65",
   "metadata": {
    "vscode": {
     "languageId": "cpp"
    }
   },
   "outputs": [
    {
     "name": "stdout",
     "output_type": "stream",
     "text": [
      "OK\n"
     ]
    }
   ],
   "source": [
    "assert::eq(42, 42);"
   ]
  },
  {
   "cell_type": "code",
   "execution_count": null,
   "id": "29424fcd",
   "metadata": {
    "vscode": {
     "languageId": "cpp"
    }
   },
   "outputs": [
    {
     "name": "stdout",
     "output_type": "stream",
     "text": [
      "OK\n"
     ]
    }
   ],
   "source": [
    "assert::eq(std::vector<int>{1, 2, 3}, std::vector<int>{1, 2, 3});"
   ]
  },
  {
   "cell_type": "code",
   "execution_count": null,
   "id": "6b04130c",
   "metadata": {
    "vscode": {
     "languageId": "cpp"
    }
   },
   "outputs": [
    {
     "name": "stdout",
     "output_type": "stream",
     "text": [
      "Vectors are not equal: \n",
      "  Left:  [1, 2, 3]\n",
      "  Right: [1, 2, 4]\n"
     ]
    }
   ],
   "source": [
    "assert::eq(std::vector<int>{1, 2, 3}, std::vector<int>{1, 2, 4});"
   ]
  },
  {
   "cell_type": "code",
   "execution_count": null,
   "id": "943a134f",
   "metadata": {
    "vscode": {
     "languageId": "cpp"
    }
   },
   "outputs": [
    {
     "name": "stdout",
     "output_type": "stream",
     "text": [
      "Vectors are not equal: \n",
      "  Left:  [1, 2, 3]\n",
      "  Right: [1, 2]\n"
     ]
    }
   ],
   "source": [
    "assert::eq(std::vector<int>{1, 2, 3}, std::vector<int>{1, 2});"
   ]
  },
  {
   "cell_type": "code",
   "execution_count": null,
   "id": "ab8f9f3f",
   "metadata": {
    "vscode": {
     "languageId": "cpp"
    }
   },
   "outputs": [],
   "source": []
  }
 ],
 "metadata": {
  "kernelspec": {
   "display_name": "C++20",
   "language": "cpp",
   "name": "xcpp20"
  },
  "language_info": {
   "codemirror_mode": "text/x-c++src",
   "file_extension": ".cpp",
   "mimetype": "text/x-c++src",
   "name": "C++",
   "version": "20"
  }
 },
 "nbformat": 4,
 "nbformat_minor": 5
}
