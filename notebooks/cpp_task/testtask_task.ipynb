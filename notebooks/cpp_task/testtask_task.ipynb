{
 "cells": [
  {
   "cell_type": "code",
   "execution_count": 1,
   "id": "4c9f6bd4",
   "metadata": {
    "vscode": {
     "languageId": "cpp"
    }
   },
   "outputs": [],
   "source": [
    "#include \"test_utils.h\""
   ]
  },
  {
   "cell_type": "code",
   "execution_count": 2,
   "id": "fabd10e6",
   "metadata": {
    "vscode": {
     "languageId": "cpp"
    }
   },
   "outputs": [
    {
     "name": "stdout",
     "output_type": "stream",
     "text": [
      "TEST CASE: count_char(\"hello\", 'h') == 1: Values are not equal: \n",
      "  0 != 1\n",
      "TEST CASE: count_char(\"hello\", 'e') == 1: Values are not equal: \n",
      "  0 != 1\n",
      "TEST CASE: count_char(\"hello\", 'l') == 2: Values are not equal: \n",
      "  0 != 2\n",
      "TEST CASE: count_char(\"hello\", 'o') == 1: Values are not equal: \n",
      "  0 != 1\n",
      "TEST CASE: count_char(\"hello\", 'a') == 0: OK\n"
     ]
    }
   ],
   "source": [
    "#include \"task.cpp\"\n",
    "\n",
    "ASSERT_EQ(count_char(\"hello\", 'h'), 1);\n",
    "ASSERT_EQ(count_char(\"hello\", 'e'), 1);\n",
    "ASSERT_EQ(count_char(\"hello\", 'l'), 2);\n",
    "ASSERT_EQ(count_char(\"hello\", 'o'), 1);\n",
    "ASSERT_EQ(count_char(\"hello\", 'a'), 0);"
   ]
  },
  {
   "cell_type": "code",
   "execution_count": null,
   "id": "d79339ce",
   "metadata": {
    "vscode": {
     "languageId": "cpp"
    }
   },
   "outputs": [],
   "source": []
  }
 ],
 "metadata": {
  "kernelspec": {
   "display_name": "C++20",
   "language": "cpp",
   "name": "xcpp20"
  },
  "language_info": {
   "codemirror_mode": "text/x-c++src",
   "file_extension": ".cpp",
   "mimetype": "text/x-c++src",
   "name": "C++",
   "version": "20"
  }
 },
 "nbformat": 4,
 "nbformat_minor": 5
}
