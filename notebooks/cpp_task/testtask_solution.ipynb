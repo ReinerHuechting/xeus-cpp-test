{
 "cells": [
  {
   "cell_type": "code",
   "execution_count": null,
   "id": "4c9f6bd4",
   "metadata": {
    "vscode": {
     "languageId": "cpp"
    }
   },
   "outputs": [],
   "source": [
    "#include \"test_utils.h\""
   ]
  },
  {
   "cell_type": "code",
   "execution_count": null,
   "id": "fabd10e6",
   "metadata": {
    "vscode": {
     "languageId": "cpp"
    }
   },
   "outputs": [],
   "source": [
    "#include \"solution.cpp\"\n",
    "\n",
    "ASSERT_EQUAL(count_char(\"hello\", 'h'), 1);\n",
    "ASSERT_EQUAL(count_char(\"hello\", 'e'), 1);\n",
    "ASSERT_EQUAL(count_char(\"hello\", 'l'), 2);\n",
    "ASSERT_EQUAL(count_char(\"hello\", 'o'), 1);\n",
    "ASSERT_EQUAL(count_char(\"hello\", 'a'), 0);"
   ]
  },
  {
   "cell_type": "code",
   "execution_count": null,
   "id": "5fdadd76",
   "metadata": {
    "vscode": {
     "languageId": "cpp"
    }
   },
   "outputs": [],
   "source": []
  }
 ],
 "metadata": {
  "kernelspec": {
   "display_name": "C++20",
   "language": "cpp",
   "name": "xcpp20"
  },
  "language_info": {
   "codemirror_mode": "text/x-c++src",
   "file_extension": ".cpp",
   "mimetype": "text/x-c++src",
   "name": "C++",
   "version": "20"
  }
 },
 "nbformat": 4,
 "nbformat_minor": 5
}
