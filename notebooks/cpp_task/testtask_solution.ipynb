{
 "cells": [
  {
   "cell_type": "code",
   "execution_count": null,
   "id": "4c9f6bd4",
   "metadata": {},
   "outputs": [],
   "source": [
    "#include \"test_utils.h\""
   ]
  },
  {
   "cell_type": "code",
   "execution_count": null,
   "id": "fabd10e6",
   "metadata": {},
   "outputs": [],
   "source": [
    "#include \"solution.cpp\"\n",
    "\n",
    "ASSERT_EQ(count_char(\"hello\", 'h'), 1);\n",
    "ASSERT_EQ(count_char(\"hello\", 'e'), 1);\n",
    "ASSERT_EQ(count_char(\"hello\", 'l'), 2);\n",
    "ASSERT_EQ(count_char(\"hello\", 'o'), 1);\n",
    "ASSERT_EQ(count_char(\"hello\", 'a'), 0);"
   ]
  }
 ],
 "metadata": {
  "kernelspec": {
   "display_name": "C++20",
   "language": "cpp",
   "name": "xcpp20"
  },
  "language_info": {
   "codemirror_mode": "text/x-c++src",
   "file_extension": ".cpp",
   "mimetype": "text/x-c++src",
   "name": "cpp",
   "version": "20"
  }
 },
 "nbformat": 4,
 "nbformat_minor": 5
}
