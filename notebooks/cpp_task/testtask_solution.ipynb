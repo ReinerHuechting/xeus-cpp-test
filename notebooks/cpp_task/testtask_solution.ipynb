{
 "cells": [
  {
   "cell_type": "code",
   "execution_count": null,
   "id": "4c9f6bd4",
   "metadata": {},
   "outputs": [],
   "source": [
    "#include \"test_utils.h\"\n",
    "using namespace test_utils;"
   ]
  },
  {
   "cell_type": "code",
   "execution_count": null,
   "id": "fabd10e6",
   "metadata": {},
   "outputs": [],
   "source": [
    "#include \"solution.cpp\"\n",
    "\n",
    "assert::eq(count_char(\"hello\", 'h'), 1);\n",
    "assert::eq(count_char(\"hello\", 'e'), 1);\n",
    "assert::eq(count_char(\"hello\", 'l'), 2);\n",
    "assert::eq(count_char(\"hello\", 'o'), 1);\n",
    "assert::eq(count_char(\"hello\", 'a'), 0);"
   ]
  },
  {
   "cell_type": "code",
   "execution_count": null,
   "id": "6e0b0491",
   "metadata": {},
   "outputs": [],
   "source": []
  }
 ],
 "metadata": {
  "kernelspec": {
   "display_name": "C++20",
   "language": "cpp",
   "name": "xcpp20"
  },
  "language_info": {
   "codemirror_mode": "text/x-c++src",
   "file_extension": ".cpp",
   "mimetype": "text/x-c++src",
   "name": "cpp",
   "version": "20"
  }
 },
 "nbformat": 4,
 "nbformat_minor": 5
}
